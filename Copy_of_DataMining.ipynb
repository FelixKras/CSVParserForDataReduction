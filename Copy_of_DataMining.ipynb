{
  "nbformat": 4,
  "nbformat_minor": 0,
  "metadata": {
    "colab": {
      "name": "Copy of DataMining.ipynb",
      "version": "0.3.2",
      "provenance": [],
      "include_colab_link": true
    },
    "kernelspec": {
      "name": "python3",
      "display_name": "Python 3"
    }
  },
  "cells": [
    {
      "cell_type": "markdown",
      "metadata": {
        "id": "view-in-github",
        "colab_type": "text"
      },
      "source": [
        "<a href=\"https://colab.research.google.com/github/FelixKras/CSVParserForDataReduction/blob/master/Copy_of_DataMining.ipynb\" target=\"_parent\"><img src=\"https://colab.research.google.com/assets/colab-badge.svg\" alt=\"Open In Colab\"/></a>"
      ]
    },
    {
      "cell_type": "code",
      "metadata": {
        "id": "nfRA_WOO-TDq",
        "colab_type": "code",
        "outputId": "7d85c727-8c9e-4080-8486-ef023490c166",
        "colab": {
          "base_uri": "https://localhost:8080/",
          "height": 285
        }
      },
      "source": [
        "import numpy as np\n",
        "import pandas as pd\n",
        "import seaborn as sns\n",
        "import matplotlib.pyplot as plt\n",
        "\n",
        "from datetime import date, timedelta, datetime\n",
        "from difflib import SequenceMatcher\n",
        "\n",
        "def similar(a, b):\n",
        "  return SequenceMatcher(None, a, b).ratio()\n",
        "\n",
        "\n",
        "Data = pd.read_csv('/content/drive/My Drive/Colab Notebooks/NewCSV.txt')\n",
        "Data.insert(17,'Survivability',Data[\"Total Fatalities\"].count)\n",
        "Data[\"Survivability\"]=round(10*(Data[\"TotalAboard\"]-Data[\"Total Fatalities\"])/Data[\"TotalAboard\"])\n",
        "\n",
        "myList=list(set(Data['Operator']))\n",
        "\n",
        "print(len(set(Data['Operator'])))\n",
        "print(len(Data['Operator']))\n",
        "\n",
        "freqfreq() \n",
        "\n",
        "for i in range(len(myList)):\n",
        "  for j in range(len(myList)):\n",
        "    Sim=similar(myList[i],myList[j]) \n",
        "    if Sim>0.8 and Sim<1:\n",
        "      print(myList[i], myList[j])\n",
        "\n",
        "       \n",
        "\n",
        "        \n",
        "\n",
        "Prop_by_Op = Data.groupby('Operator')[['Survivability']].mean()"
      ],
      "execution_count": 1,
      "outputs": [
        {
          "output_type": "stream",
          "text": [
            "2526\n",
            "4663\n"
          ],
          "name": "stdout"
        },
        {
          "output_type": "error",
          "ename": "NameError",
          "evalue": "ignored",
          "traceback": [
            "\u001b[0;31m---------------------------------------------------------------------------\u001b[0m",
            "\u001b[0;31mNameError\u001b[0m                                 Traceback (most recent call last)",
            "\u001b[0;32m<ipython-input-1-ac5a6ff846ad>\u001b[0m in \u001b[0;36m<module>\u001b[0;34m()\u001b[0m\n\u001b[1;32m     20\u001b[0m \u001b[0mprint\u001b[0m\u001b[0;34m(\u001b[0m\u001b[0mlen\u001b[0m\u001b[0;34m(\u001b[0m\u001b[0mData\u001b[0m\u001b[0;34m[\u001b[0m\u001b[0;34m'Operator'\u001b[0m\u001b[0;34m]\u001b[0m\u001b[0;34m)\u001b[0m\u001b[0;34m)\u001b[0m\u001b[0;34m\u001b[0m\u001b[0;34m\u001b[0m\u001b[0m\n\u001b[1;32m     21\u001b[0m \u001b[0;34m\u001b[0m\u001b[0m\n\u001b[0;32m---> 22\u001b[0;31m \u001b[0mfreqfreq\u001b[0m\u001b[0;34m(\u001b[0m\u001b[0;34m)\u001b[0m\u001b[0;34m\u001b[0m\u001b[0;34m\u001b[0m\u001b[0m\n\u001b[0m\u001b[1;32m     23\u001b[0m \u001b[0;34m\u001b[0m\u001b[0m\n\u001b[1;32m     24\u001b[0m \u001b[0;32mfor\u001b[0m \u001b[0mi\u001b[0m \u001b[0;32min\u001b[0m \u001b[0mrange\u001b[0m\u001b[0;34m(\u001b[0m\u001b[0mlen\u001b[0m\u001b[0;34m(\u001b[0m\u001b[0mmyList\u001b[0m\u001b[0;34m)\u001b[0m\u001b[0;34m)\u001b[0m\u001b[0;34m:\u001b[0m\u001b[0;34m\u001b[0m\u001b[0;34m\u001b[0m\u001b[0m\n",
            "\u001b[0;31mNameError\u001b[0m: name 'freqfreq' is not defined"
          ]
        }
      ]
    }
  ]
}